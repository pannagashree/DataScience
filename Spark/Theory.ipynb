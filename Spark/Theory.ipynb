{
 "cells": [
  {
   "cell_type": "markdown",
   "metadata": {},
   "source": [
    "**Spark**"
   ]
  },
  {
   "cell_type": "markdown",
   "metadata": {},
   "source": [
    "used to handle big data    \n",
    "Open source project on Apache    \n",
    "Alternative to MapReduce    \n",
    "Core of Spark is Resilient Distributed Dataset(RDD)    \n",
    "**Featutes of RDD:**    \n",
    "Distributed Collection of Data    \n",
    "Fault-Tolerant    \n",
    "Parallel Operation-can partition the data    \n",
    "Can use many data  sources    \n",
    "\n",
    "RDD's are immutable,lazily evaluated,and cachable    \n",
    "**Operations:** 2 types:     \n",
    "Transformations    \n",
    "Actions    \n",
    "**Actions**    \n",
    "First-returns first element        \n",
    "Collect-Returns all the elements of RDD as array    \n",
    "Count-returns number of elements    \n",
    "Take-returns array with first N elements of RDD    \n",
    "**Transformations**    \n",
    "Filter-RDD.filter() applies function to each element and returns elements that evaluates to true    \n",
    "Map-RDD.map() tranforms each element,similar to pandas.apply().Eg:map an operation grabbing the first letter of a each name from a list of names    \n",
    "flatMap-RDD.flatMap() trnsforms each element into 0-N elements and changes the number of elements.Eg:Transforming a corpus of text into list of words    \n",
    "\n",
    "Usually RDD's hold value in pairs providing better partitioning    \n",
    "Reduce()-to aggregate RDD's    \n",
    "ReduceByKey()-to aggregate pair RDD's"
   ]
  },
  {
   "cell_type": "markdown",
   "metadata": {},
   "source": [
    "**Command** to get connected to ec2 instance    \n",
    "ssh -i filename.pem ubuntu@DNS_of_instance"
   ]
  },
  {
   "cell_type": "markdown",
   "metadata": {},
   "source": [
    "**py4j** is used to connect python and java"
   ]
  }
 ],
 "metadata": {
  "kernelspec": {
   "display_name": "Python 2",
   "language": "python",
   "name": "python2"
  },
  "language_info": {
   "codemirror_mode": {
    "name": "ipython",
    "version": 2
   },
   "file_extension": ".py",
   "mimetype": "text/x-python",
   "name": "python",
   "nbconvert_exporter": "python",
   "pygments_lexer": "ipython2",
   "version": "2.7.12"
  }
 },
 "nbformat": 4,
 "nbformat_minor": 2
}
